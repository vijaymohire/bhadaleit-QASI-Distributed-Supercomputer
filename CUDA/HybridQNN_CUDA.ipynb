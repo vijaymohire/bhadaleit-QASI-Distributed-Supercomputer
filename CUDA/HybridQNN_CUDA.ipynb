{
  "nbformat": 4,
  "nbformat_minor": 0,
  "metadata": {
    "colab": {
      "provenance": []
    },
    "kernelspec": {
      "name": "python3",
      "display_name": "Python 3"
    },
    "language_info": {
      "name": "python"
    }
  },
  "cells": [
    {
      "cell_type": "markdown",
      "source": [
        "**Hybrid Quantum Neural Networks**\n",
        "\n",
        "The example below highlights a hybrid quantum neural network workflow with CUDA-Q and PyTorch where both layers can GPU accelerated to maximise performance. We perform binary classification on the MNIST dataset where data flows through the neural network architecture to the quantum circuit whose output is used to classify hand written digits\n",
        "\n",
        "Source: https://nvidia.github.io/cuda-quantum/latest/applications/python/hybrid_qnns.html"
      ],
      "metadata": {
        "id": "Y0dDT9Tube3t"
      }
    },
    {
      "cell_type": "code",
      "source": [
        "!pip install cudaq"
      ],
      "metadata": {
        "colab": {
          "base_uri": "https://localhost:8080/"
        },
        "id": "dgqY5LuJXKx7",
        "outputId": "6597b46a-bf2e-4bd6-8463-8b95d097781b"
      },
      "execution_count": 2,
      "outputs": [
        {
          "output_type": "stream",
          "name": "stdout",
          "text": [
            "Collecting cudaq\n",
            "  Downloading cudaq-0.9.1.tar.gz (9.0 kB)\n",
            "  Installing build dependencies ... \u001b[?25l\u001b[?25hdone\n",
            "  Getting requirements to build wheel ... \u001b[?25l\u001b[?25hdone\n",
            "  Preparing metadata (pyproject.toml) ... \u001b[?25l\u001b[?25hdone\n",
            "Collecting cuda-quantum-cu12==0.9.1 (from cudaq)\n",
            "  Downloading cuda_quantum_cu12-0.9.1-cp311-cp311-manylinux_2_28_x86_64.whl.metadata (8.7 kB)\n",
            "Collecting astpretty~=3.0 (from cuda-quantum-cu12==0.9.1->cudaq)\n",
            "  Downloading astpretty-3.0.0-py2.py3-none-any.whl.metadata (5.5 kB)\n",
            "Collecting cuquantum-python-cu12>=24.11 (from cuda-quantum-cu12==0.9.1->cudaq)\n",
            "  Downloading cuquantum_python_cu12-24.11.0-cp311-cp311-manylinux2014_x86_64.whl.metadata (7.4 kB)\n",
            "Requirement already satisfied: numpy>=1.24 in /usr/local/lib/python3.11/dist-packages (from cuda-quantum-cu12==0.9.1->cudaq) (1.26.4)\n",
            "Requirement already satisfied: scipy>=1.10.1 in /usr/local/lib/python3.11/dist-packages (from cuda-quantum-cu12==0.9.1->cudaq) (1.13.1)\n",
            "Requirement already satisfied: requests>=2.31 in /usr/local/lib/python3.11/dist-packages (from cuda-quantum-cu12==0.9.1->cudaq) (2.32.3)\n",
            "Requirement already satisfied: nvidia-cublas-cu12~=12.0 in /usr/local/lib/python3.11/dist-packages (from cuda-quantum-cu12==0.9.1->cudaq) (12.5.3.2)\n",
            "Requirement already satisfied: nvidia-cuda-runtime-cu12~=12.0 in /usr/local/lib/python3.11/dist-packages (from cuda-quantum-cu12==0.9.1->cudaq) (12.5.82)\n",
            "Requirement already satisfied: nvidia-cusolver-cu12~=11.4 in /usr/local/lib/python3.11/dist-packages (from cuda-quantum-cu12==0.9.1->cudaq) (11.6.3.83)\n",
            "Requirement already satisfied: nvidia-cuda-nvrtc-cu12~=12.0 in /usr/local/lib/python3.11/dist-packages (from cuda-quantum-cu12==0.9.1->cudaq) (12.5.82)\n",
            "Collecting custatevec-cu12~=1.7 (from cuquantum-python-cu12>=24.11->cuda-quantum-cu12==0.9.1->cudaq)\n",
            "  Downloading custatevec_cu12-1.7.0-py3-none-manylinux2014_x86_64.whl.metadata (2.2 kB)\n",
            "Collecting cutensornet-cu12~=2.6 (from cuquantum-python-cu12>=24.11->cuda-quantum-cu12==0.9.1->cudaq)\n",
            "  Downloading cutensornet_cu12-2.6.0-py3-none-manylinux2014_x86_64.whl.metadata (2.2 kB)\n",
            "Collecting cudensitymat-cu12~=0.0.5 (from cuquantum-python-cu12>=24.11->cuda-quantum-cu12==0.9.1->cudaq)\n",
            "  Downloading cudensitymat_cu12-0.0.5-py3-none-manylinux2014_x86_64.whl.metadata (2.3 kB)\n",
            "Requirement already satisfied: cupy-cuda12x>=13.0 in /usr/local/lib/python3.11/dist-packages (from cuquantum-python-cu12>=24.11->cuda-quantum-cu12==0.9.1->cudaq) (13.3.0)\n",
            "Requirement already satisfied: nvidia-nvjitlink-cu12 in /usr/local/lib/python3.11/dist-packages (from nvidia-cusolver-cu12~=11.4->cuda-quantum-cu12==0.9.1->cudaq) (12.5.82)\n",
            "Requirement already satisfied: nvidia-cusparse-cu12 in /usr/local/lib/python3.11/dist-packages (from nvidia-cusolver-cu12~=11.4->cuda-quantum-cu12==0.9.1->cudaq) (12.5.1.3)\n",
            "Requirement already satisfied: charset-normalizer<4,>=2 in /usr/local/lib/python3.11/dist-packages (from requests>=2.31->cuda-quantum-cu12==0.9.1->cudaq) (3.4.1)\n",
            "Requirement already satisfied: idna<4,>=2.5 in /usr/local/lib/python3.11/dist-packages (from requests>=2.31->cuda-quantum-cu12==0.9.1->cudaq) (3.10)\n",
            "Requirement already satisfied: urllib3<3,>=1.21.1 in /usr/local/lib/python3.11/dist-packages (from requests>=2.31->cuda-quantum-cu12==0.9.1->cudaq) (2.3.0)\n",
            "Requirement already satisfied: certifi>=2017.4.17 in /usr/local/lib/python3.11/dist-packages (from requests>=2.31->cuda-quantum-cu12==0.9.1->cudaq) (2025.1.31)\n",
            "Collecting cutensor-cu12<3,>=2.0.2 (from cudensitymat-cu12~=0.0.5->cuquantum-python-cu12>=24.11->cuda-quantum-cu12==0.9.1->cudaq)\n",
            "  Downloading cutensor_cu12-2.0.2-py3-none-manylinux2014_x86_64.whl.metadata (2.1 kB)\n",
            "Requirement already satisfied: fastrlock>=0.5 in /usr/local/lib/python3.11/dist-packages (from cupy-cuda12x>=13.0->cuquantum-python-cu12>=24.11->cuda-quantum-cu12==0.9.1->cudaq) (0.8.3)\n",
            "Downloading cuda_quantum_cu12-0.9.1-cp311-cp311-manylinux_2_28_x86_64.whl (117.6 MB)\n",
            "\u001b[2K   \u001b[90m━━━━━━━━━━━━━━━━━━━━━━━━━━━━━━━━━━━━━━━━\u001b[0m \u001b[32m117.6/117.6 MB\u001b[0m \u001b[31m7.8 MB/s\u001b[0m eta \u001b[36m0:00:00\u001b[0m\n",
            "\u001b[?25hDownloading astpretty-3.0.0-py2.py3-none-any.whl (4.9 kB)\n",
            "Downloading cuquantum_python_cu12-24.11.0-cp311-cp311-manylinux2014_x86_64.whl (5.4 MB)\n",
            "\u001b[2K   \u001b[90m━━━━━━━━━━━━━━━━━━━━━━━━━━━━━━━━━━━━━━━━\u001b[0m \u001b[32m5.4/5.4 MB\u001b[0m \u001b[31m89.6 MB/s\u001b[0m eta \u001b[36m0:00:00\u001b[0m\n",
            "\u001b[?25hDownloading cudensitymat_cu12-0.0.5-py3-none-manylinux2014_x86_64.whl (1.7 MB)\n",
            "\u001b[2K   \u001b[90m━━━━━━━━━━━━━━━━━━━━━━━━━━━━━━━━━━━━━━━━\u001b[0m \u001b[32m1.7/1.7 MB\u001b[0m \u001b[31m64.4 MB/s\u001b[0m eta \u001b[36m0:00:00\u001b[0m\n",
            "\u001b[?25hDownloading custatevec_cu12-1.7.0-py3-none-manylinux2014_x86_64.whl (38.6 MB)\n",
            "\u001b[2K   \u001b[90m━━━━━━━━━━━━━━━━━━━━━━━━━━━━━━━━━━━━━━━━\u001b[0m \u001b[32m38.6/38.6 MB\u001b[0m \u001b[31m13.7 MB/s\u001b[0m eta \u001b[36m0:00:00\u001b[0m\n",
            "\u001b[?25hDownloading cutensornet_cu12-2.6.0-py3-none-manylinux2014_x86_64.whl (2.3 MB)\n",
            "\u001b[2K   \u001b[90m━━━━━━━━━━━━━━━━━━━━━━━━━━━━━━━━━━━━━━━━\u001b[0m \u001b[32m2.3/2.3 MB\u001b[0m \u001b[31m70.7 MB/s\u001b[0m eta \u001b[36m0:00:00\u001b[0m\n",
            "\u001b[?25hDownloading cutensor_cu12-2.0.2-py3-none-manylinux2014_x86_64.whl (156.9 MB)\n",
            "\u001b[2K   \u001b[90m━━━━━━━━━━━━━━━━━━━━━━━━━━━━━━━━━━━━━━━━\u001b[0m \u001b[32m156.9/156.9 MB\u001b[0m \u001b[31m6.5 MB/s\u001b[0m eta \u001b[36m0:00:00\u001b[0m\n",
            "\u001b[?25hBuilding wheels for collected packages: cudaq\n",
            "  Building wheel for cudaq (pyproject.toml) ... \u001b[?25l\u001b[?25hdone\n",
            "  Created wheel for cudaq: filename=cudaq-0.9.1-py3-none-any.whl size=6786 sha256=8ca58a8d41cf10a9d634876105dec29f57f916cc7242ca04bc6928a784305ddb\n",
            "  Stored in directory: /root/.cache/pip/wheels/b0/ee/32/0ac9053509c0ba31e4bac6122454996a9a4e4d6523b1918d04\n",
            "Successfully built cudaq\n",
            "Installing collected packages: cutensor-cu12, custatevec-cu12, cutensornet-cu12, cudensitymat-cu12, astpretty, cuquantum-python-cu12, cuda-quantum-cu12, cudaq\n",
            "Successfully installed astpretty-3.0.0 cuda-quantum-cu12-0.9.1 cudaq-0.9.1 cudensitymat-cu12-0.0.5 cuquantum-python-cu12-24.11.0 custatevec-cu12-1.7.0 cutensor-cu12-2.0.2 cutensornet-cu12-2.6.0\n"
          ]
        }
      ]
    },
    {
      "cell_type": "code",
      "execution_count": 3,
      "metadata": {
        "id": "NfbQ7Hq6Wr3B"
      },
      "outputs": [],
      "source": [
        "# Import the relevant libraries\n",
        "\n",
        "import cudaq\n",
        "from cudaq import spin\n",
        "\n",
        "import matplotlib.pyplot as plt\n",
        "\n",
        "import numpy as np\n",
        "\n",
        "import torch\n",
        "from torch.autograd import Function\n",
        "from torchvision import datasets, transforms\n",
        "import torch.optim as optim\n",
        "import torch.nn as nn\n",
        "import torchvision\n",
        "\n",
        "from sklearn.model_selection import train_test_split\n",
        "\n",
        "torch.manual_seed(22)\n",
        "cudaq.set_random_seed(44)"
      ]
    },
    {
      "cell_type": "code",
      "source": [
        "# Set CUDAQ and PyTorch to run on either CPU or GPU.\n",
        "\n",
        "device = torch.device('cpu')\n",
        "cudaq.set_target(\"qpp-cpu\")\n",
        "\n",
        "#cudaq.set_target(\"nvidia\")\n",
        "#device = torch.device(\"cuda:0\")"
      ],
      "metadata": {
        "id": "n5JhPsgeXiTz"
      },
      "execution_count": 4,
      "outputs": []
    },
    {
      "cell_type": "code",
      "source": [
        "def prepare_data(target_digits, sample_count, test_size):\n",
        "    \"\"\"Load and prepare the MNIST dataset to be used\n",
        "\n",
        "    Args:\n",
        "        target_digits (list): digits to perform classification of\n",
        "        sample_count (int): total number of images to be used\n",
        "        test_size (float): percentage of sample_count to be used as test set, the remainder is the training set\n",
        "\n",
        "    Returns:\n",
        "        dataset in train, test format with targets\n",
        "\n",
        "    \"\"\"\n",
        "\n",
        "    transform = transforms.Compose(\n",
        "        [transforms.ToTensor(),\n",
        "         transforms.Normalize((0.1307), (0.3081))])\n",
        "\n",
        "    dataset = datasets.MNIST(\"./data\",\n",
        "                             train=True,\n",
        "                             download=True,\n",
        "                             transform=transform)\n",
        "\n",
        "    # Filter out the required labels.\n",
        "    idx = (dataset.targets == target_digits[0]) | (dataset.targets\n",
        "                                                   == target_digits[1])\n",
        "    dataset.data = dataset.data[idx]\n",
        "    dataset.targets = dataset.targets[idx]\n",
        "\n",
        "    # Select a subset based on number of datapoints specified by sample_count.\n",
        "    subset_indices = torch.randperm(dataset.data.size(0))[:sample_count]\n",
        "\n",
        "    x = dataset.data[subset_indices].float().unsqueeze(1).to(device)\n",
        "\n",
        "    y = dataset.targets[subset_indices].to(device).float().to(device)\n",
        "\n",
        "    # Relabel the targets as a 0 or a 1.\n",
        "    y = torch.where(y == min(target_digits), 0.0, 1.0)\n",
        "\n",
        "    x_train, x_test, y_train, y_test = train_test_split(x,\n",
        "                                                        y,\n",
        "                                                        test_size=test_size /\n",
        "                                                        100,\n",
        "                                                        shuffle=True,\n",
        "                                                        random_state=42)\n",
        "\n",
        "    return x_train, x_test, y_train, y_test"
      ],
      "metadata": {
        "id": "oVa9x8SRXnm7"
      },
      "execution_count": 5,
      "outputs": []
    },
    {
      "cell_type": "code",
      "source": [
        "# Classical parameters.\n",
        "\n",
        "sample_count = 1000  # Total number of images to use.\n",
        "target_digits = [5, 6]  # Hand written digits to classify.\n",
        "test_size = 30  # Percentage of dataset to be used for testing.\n",
        "classification_threshold = 0.5  # Classification boundary used to measure accuracy.\n",
        "epochs = 1000  # Number of epochs to train for.\n",
        "\n",
        "# Quantum parmeters.\n",
        "\n",
        "qubit_count = 1\n",
        "hamiltonian = spin.z(0)  # Measurement operator.\n",
        "shift = torch.tensor(torch.pi / 2)  # Magnitude of parameter shift."
      ],
      "metadata": {
        "id": "oOLnrg90Xtba"
      },
      "execution_count": 6,
      "outputs": []
    },
    {
      "cell_type": "code",
      "source": [
        "x_train, x_test, y_train, y_test = prepare_data(target_digits, sample_count,\n",
        "                                                test_size)"
      ],
      "metadata": {
        "colab": {
          "base_uri": "https://localhost:8080/"
        },
        "id": "duRc-SnMXxhD",
        "outputId": "f23d4980-d90e-4b0c-f798-8cc576b318ae"
      },
      "execution_count": 7,
      "outputs": [
        {
          "output_type": "stream",
          "name": "stdout",
          "text": [
            "Downloading http://yann.lecun.com/exdb/mnist/train-images-idx3-ubyte.gz\n",
            "Failed to download (trying next):\n",
            "HTTP Error 404: Not Found\n",
            "\n",
            "Downloading https://ossci-datasets.s3.amazonaws.com/mnist/train-images-idx3-ubyte.gz\n",
            "Downloading https://ossci-datasets.s3.amazonaws.com/mnist/train-images-idx3-ubyte.gz to ./data/MNIST/raw/train-images-idx3-ubyte.gz\n"
          ]
        },
        {
          "output_type": "stream",
          "name": "stderr",
          "text": [
            "100%|██████████| 9.91M/9.91M [00:00<00:00, 50.2MB/s]\n"
          ]
        },
        {
          "output_type": "stream",
          "name": "stdout",
          "text": [
            "Extracting ./data/MNIST/raw/train-images-idx3-ubyte.gz to ./data/MNIST/raw\n",
            "\n",
            "Downloading http://yann.lecun.com/exdb/mnist/train-labels-idx1-ubyte.gz\n",
            "Failed to download (trying next):\n",
            "HTTP Error 404: Not Found\n",
            "\n",
            "Downloading https://ossci-datasets.s3.amazonaws.com/mnist/train-labels-idx1-ubyte.gz\n",
            "Downloading https://ossci-datasets.s3.amazonaws.com/mnist/train-labels-idx1-ubyte.gz to ./data/MNIST/raw/train-labels-idx1-ubyte.gz\n"
          ]
        },
        {
          "output_type": "stream",
          "name": "stderr",
          "text": [
            "100%|██████████| 28.9k/28.9k [00:00<00:00, 1.68MB/s]\n"
          ]
        },
        {
          "output_type": "stream",
          "name": "stdout",
          "text": [
            "Extracting ./data/MNIST/raw/train-labels-idx1-ubyte.gz to ./data/MNIST/raw\n",
            "\n",
            "Downloading http://yann.lecun.com/exdb/mnist/t10k-images-idx3-ubyte.gz\n",
            "Failed to download (trying next):\n",
            "HTTP Error 404: Not Found\n",
            "\n",
            "Downloading https://ossci-datasets.s3.amazonaws.com/mnist/t10k-images-idx3-ubyte.gz\n",
            "Downloading https://ossci-datasets.s3.amazonaws.com/mnist/t10k-images-idx3-ubyte.gz to ./data/MNIST/raw/t10k-images-idx3-ubyte.gz\n"
          ]
        },
        {
          "output_type": "stream",
          "name": "stderr",
          "text": [
            "100%|██████████| 1.65M/1.65M [00:00<00:00, 14.5MB/s]\n"
          ]
        },
        {
          "output_type": "stream",
          "name": "stdout",
          "text": [
            "Extracting ./data/MNIST/raw/t10k-images-idx3-ubyte.gz to ./data/MNIST/raw\n",
            "\n",
            "Downloading http://yann.lecun.com/exdb/mnist/t10k-labels-idx1-ubyte.gz\n",
            "Failed to download (trying next):\n",
            "HTTP Error 404: Not Found\n",
            "\n",
            "Downloading https://ossci-datasets.s3.amazonaws.com/mnist/t10k-labels-idx1-ubyte.gz\n",
            "Downloading https://ossci-datasets.s3.amazonaws.com/mnist/t10k-labels-idx1-ubyte.gz to ./data/MNIST/raw/t10k-labels-idx1-ubyte.gz\n"
          ]
        },
        {
          "output_type": "stream",
          "name": "stderr",
          "text": [
            "100%|██████████| 4.54k/4.54k [00:00<00:00, 8.51MB/s]"
          ]
        },
        {
          "output_type": "stream",
          "name": "stdout",
          "text": [
            "Extracting ./data/MNIST/raw/t10k-labels-idx1-ubyte.gz to ./data/MNIST/raw\n",
            "\n"
          ]
        },
        {
          "output_type": "stream",
          "name": "stderr",
          "text": [
            "\n"
          ]
        }
      ]
    },
    {
      "cell_type": "code",
      "source": [
        "# Plot some images from the training set to visualise.\n",
        "if device != 'cpu':\n",
        "    sample_to_plot = x_train[:10].to(torch.device('cpu'))\n",
        "else:\n",
        "    sample_to_plot = x_train[:10]\n",
        "\n",
        "grid_img = torchvision.utils.make_grid(sample_to_plot,\n",
        "                                       nrow=5,\n",
        "                                       padding=3,\n",
        "                                       normalize=True)\n",
        "plt.imshow(grid_img.permute(1, 2, 0))\n",
        "plt.axis('off')\n",
        "plt.show()"
      ],
      "metadata": {
        "colab": {
          "base_uri": "https://localhost:8080/",
          "height": 241
        },
        "id": "m9C5tzwhX4YU",
        "outputId": "29a17bb5-2da6-4393-c880-4863f5b21409"
      },
      "execution_count": 8,
      "outputs": [
        {
          "output_type": "display_data",
          "data": {
            "text/plain": [
              "<Figure size 640x480 with 1 Axes>"
            ],
            "image/png": "[encoded data removed]"
          },
          "metadata": {}
        }
      ]
    },
    {
      "cell_type": "code",
      "source": [
        "class QuantumFunction(Function):\n",
        "    \"\"\"Allows the quantum circuit to input data, output expectation values\n",
        "    and calculate gradients of variational parameters via finite difference\"\"\"\n",
        "\n",
        "    def __init__(self, qubit_count: int, hamiltonian: cudaq.SpinOperator):\n",
        "        \"\"\"Define the quantum circuit in CUDA Quantum\"\"\"\n",
        "\n",
        "        @cudaq.kernel\n",
        "        def kernel(qubit_count: int, thetas: np.ndarray):\n",
        "\n",
        "            qubits = cudaq.qvector(qubit_count)\n",
        "\n",
        "            ry(thetas[0], qubits[0])\n",
        "            rx(thetas[1], qubits[0])\n",
        "\n",
        "        self.kernel = kernel\n",
        "        self.qubit_count = qubit_count\n",
        "        self.hamiltonian = hamiltonian\n",
        "\n",
        "    def run(self, theta_vals: torch.tensor) -> torch.tensor:\n",
        "        \"\"\"Excetute the quantum circuit to output an expectation value\"\"\"\n",
        "\n",
        "        #If running on GPU, thetas is a torch.tensor that will live on GPU memory. The observe function calls a .tolist() method on inputs which moves thetas from GPU to CPU.\n",
        "\n",
        "        qubit_count = [self.qubit_count for _ in range(theta_vals.shape[0])]\n",
        "\n",
        "        results = cudaq.observe(self.kernel, self.hamiltonian, qubit_count,\n",
        "                                theta_vals)\n",
        "\n",
        "        exp_vals = [results[i].expectation() for i in range(len(results))]\n",
        "        exp_vals = torch.Tensor(exp_vals).to(device)\n",
        "\n",
        "        return exp_vals\n",
        "\n",
        "    @staticmethod\n",
        "    def forward(ctx, thetas: torch.tensor, quantum_circuit,\n",
        "                shift) -> torch.tensor:\n",
        "\n",
        "        # Save shift and quantum_circuit in context to use in backward.\n",
        "        ctx.shift = shift\n",
        "        ctx.quantum_circuit = quantum_circuit\n",
        "\n",
        "        # Calculate expectation value.\n",
        "        exp_vals = ctx.quantum_circuit.run(thetas).reshape(-1, 1)\n",
        "\n",
        "        ctx.save_for_backward(thetas, exp_vals)\n",
        "\n",
        "        return exp_vals\n",
        "\n",
        "    @staticmethod\n",
        "    def backward(ctx, grad_output):\n",
        "        \"\"\"Backward pass computation via finite difference\"\"\"\n",
        "\n",
        "        thetas, _ = ctx.saved_tensors\n",
        "\n",
        "        gradients = torch.zeros(thetas.shape, device=device)\n",
        "\n",
        "        for i in range(thetas.shape[1]):\n",
        "\n",
        "            thetas_plus = thetas.clone()\n",
        "            thetas_plus[:, i] += ctx.shift\n",
        "            exp_vals_plus = ctx.quantum_circuit.run(thetas_plus)\n",
        "\n",
        "            thetas_minus = thetas.clone()\n",
        "            thetas_minus[:, i] -= ctx.shift\n",
        "            exp_vals_minus = ctx.quantum_circuit.run(thetas_minus)\n",
        "\n",
        "            gradients[:, i] = (exp_vals_plus - exp_vals_minus) / (2 * ctx.shift)\n",
        "\n",
        "        gradients = torch.mul(grad_output, gradients)\n",
        "\n",
        "        return gradients, None, None"
      ],
      "metadata": {
        "id": "EbC_kYMxYBF9"
      },
      "execution_count": 9,
      "outputs": []
    },
    {
      "cell_type": "code",
      "source": [
        "class QuantumLayer(nn.Module):\n",
        "    \"\"\"Encapsulates a quantum circuit into a quantum layer adhering PyTorch convention\"\"\"\n",
        "\n",
        "    def __init__(self, qubit_count: int, hamiltonian, shift: torch.tensor):\n",
        "        super(QuantumLayer, self).__init__()\n",
        "\n",
        "        self.quantum_circuit = QuantumFunction(qubit_count, hamiltonian)\n",
        "        self.shift = shift\n",
        "\n",
        "    def forward(self, input):\n",
        "\n",
        "        result = QuantumFunction.apply(input, self.quantum_circuit, self.shift)\n",
        "\n",
        "        return result"
      ],
      "metadata": {
        "id": "2EUDL5CzYHBw"
      },
      "execution_count": 10,
      "outputs": []
    },
    {
      "cell_type": "code",
      "source": [
        "class Hybrid_QNN(nn.Module):\n",
        "    \"\"\"Structure of the hybrid neural network with classical fully connected layers and quantum layers\"\"\"\n",
        "\n",
        "    def __init__(self):\n",
        "        super(Hybrid_QNN, self).__init__()\n",
        "\n",
        "        self.fc1 = nn.Linear(28 * 28, 256)\n",
        "        self.fc2 = nn.Linear(256, 128)\n",
        "        self.dropout = nn.Dropout(0.25)\n",
        "\n",
        "        self.fc3 = nn.Linear(128, 64)\n",
        "        self.fc4 = nn.Linear(64, 32)\n",
        "        self.fc5 = nn.Linear(32, 2)\n",
        "        self.dropout = nn.Dropout(0.25)\n",
        "\n",
        "        # The 2 outputs from PyTorch fc5 layer feed into the 2 variational gates in the quantum circuit.\n",
        "        self.quantum = QuantumLayer(qubit_count, hamiltonian, shift)\n",
        "\n",
        "    def forward(self, x):\n",
        "\n",
        "        x = x.view(-1, 28 * 28)  # Turns images into vectors.\n",
        "\n",
        "        x = torch.relu(self.fc1(x))\n",
        "        x = torch.relu(self.fc2(x))\n",
        "        x = self.dropout(x)\n",
        "\n",
        "        x = torch.relu(self.fc3(x))\n",
        "        x = torch.relu(self.fc4(x))\n",
        "        x = torch.relu(self.fc5(x))\n",
        "        x = self.dropout(x)\n",
        "\n",
        "        # Quantum circuit outputs an expectation value which is fed into the sigmoid activation function to perform classification.\n",
        "        x = torch.sigmoid(self.quantum(x))\n",
        "\n",
        "        return x.view(-1)"
      ],
      "metadata": {
        "id": "AygZTWBeYKkI"
      },
      "execution_count": 11,
      "outputs": []
    },
    {
      "cell_type": "code",
      "source": [
        "def accuracy_score(y, y_hat):\n",
        "    return sum((y == (y_hat >= classification_threshold))) / len(y)"
      ],
      "metadata": {
        "id": "Y5NtpHT3YP9k"
      },
      "execution_count": 12,
      "outputs": []
    },
    {
      "cell_type": "code",
      "source": [
        "hybrid_model = Hybrid_QNN().to(device)\n",
        "\n",
        "optimizer = optim.Adadelta(hybrid_model.parameters(),\n",
        "                           lr=0.001,\n",
        "                           weight_decay=0.8)\n",
        "\n",
        "loss_function = nn.BCELoss().to(device)\n",
        "\n",
        "training_cost = []\n",
        "testing_cost = []\n",
        "training_accuracy = []\n",
        "testing_accuracy = []\n",
        "\n",
        "hybrid_model.train()\n",
        "for epoch in range(epochs):\n",
        "\n",
        "    optimizer.zero_grad()\n",
        "\n",
        "    y_hat_train = hybrid_model(x_train).to(device)\n",
        "\n",
        "    train_cost = loss_function(y_hat_train, y_train).to(device)\n",
        "\n",
        "    train_cost.backward()\n",
        "\n",
        "    optimizer.step()\n",
        "\n",
        "    training_accuracy.append(accuracy_score(y_train, y_hat_train))\n",
        "    training_cost.append(train_cost.item())\n",
        "\n",
        "    hybrid_model.eval()\n",
        "    with torch.no_grad():\n",
        "\n",
        "        y_hat_test = hybrid_model(x_test).to(device)\n",
        "\n",
        "        test_cost = loss_function(y_hat_test, y_test).to(device)\n",
        "\n",
        "        testing_accuracy.append(accuracy_score(y_test, y_hat_test))\n",
        "        testing_cost.append(test_cost.item())"
      ],
      "metadata": {
        "id": "yDVQ85XWYULe"
      },
      "execution_count": 13,
      "outputs": []
    },
    {
      "cell_type": "code",
      "source": [
        "plt.figure(figsize=(10, 5))\n",
        "\n",
        "plt.subplot(1, 2, 1)\n",
        "plt.plot(training_cost, label='Train')\n",
        "plt.plot(testing_cost, label='Test')\n",
        "plt.xlabel('Epochs')\n",
        "plt.ylabel('Cost')\n",
        "plt.legend()\n",
        "\n",
        "plt.subplot(1, 2, 2)\n",
        "plt.plot(training_accuracy, label='Train')\n",
        "plt.plot(testing_accuracy, label='Test')\n",
        "plt.xlabel('Epochs')\n",
        "plt.ylabel('Accuracy')\n",
        "plt.legend()\n",
        "\n",
        "plt.tight_layout()\n",
        "plt.show()"
      ],
      "metadata": {
        "colab": {
          "base_uri": "https://localhost:8080/",
          "height": 506
        },
        "id": "8oduap_QaRg3",
        "outputId": "8870c1b9-d7e4-4f63-d696-6cf5cd1ef285"
      },
      "execution_count": 14,
      "outputs": [
        {
          "output_type": "display_data",
          "data": {
            "text/plain": [
              "<Figure size 1000x500 with 2 Axes>"
            ],
            "image/png": "[encoded data removed]"
          },
          "metadata": {}
        }
      ]
    },
    {
      "cell_type": "markdown",
      "source": [
        "**Executed by Bhadale IT **"
      ],
      "metadata": {
        "id": "xIQXNZVXbGOX"
      }
    }
  ]
}